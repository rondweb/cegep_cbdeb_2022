{
 "cells": [
  {
   "cell_type": "code",
   "execution_count": null,
   "metadata": {},
   "outputs": [],
   "source": [
    "!pip install tabulate"
   ]
  },
  {
   "cell_type": "code",
   "execution_count": 52,
   "metadata": {},
   "outputs": [],
   "source": [
    "import csv\n",
    "\n",
    "def get_data():\n",
    "  dataset = []\n",
    "\n",
    "  with open('dataset.csv', newline='') as csvfile:\n",
    "      reader = csv.DictReader(csvfile)\n",
    "      for row in reader:\n",
    "        dct = dict(nom = row['nom'], age = int(row['age']), poids_kg = float(row['poids_kg']), taille_m = float(row['taille_m']), genre = row['genre'])\n",
    "        dataset.append(dct)\n",
    "  return dataset\n",
    "\n",
    "def get_metabilisme_base(dict_item):\n",
    "  if dict_item.get('genre') == 'h':\n",
    "    return (13.707 * dict_item.get('poids_kg') + 492.3 * dict_item.get('taille_m') - 6.673 * dict_item.get('taille_m') + 77.607)\n",
    "  else:\n",
    "    return (9.740 * dict_item.get('poids_kg') + 172.9 * dict_item.get('taille_m') - 4.737 * dict_item.get('taille_m') + 667.051)\n",
    "\n",
    "def get_imc(dict_item):\n",
    "    return (dict_item.get('poids_kg')/(dict_item.get('taille_m')**2))\n",
    "\n",
    "def get_classification(imc):\n",
    "  if imc <= 19:\n",
    "      return dict(classificateur = \"Maigreur\", risque_maladies = \"Accru\")      \n",
    "  elif imc >= 19 and imc < 25:\n",
    "      return dict(classificateur = \"Poids normal\", risque_maladies = \"Faible\")\n",
    "  elif imc >= 25 and imc < 30:\n",
    "      return dict(classificateur = \"Embonpoint\", risque_maladies = \"Accru\")      \n",
    "  elif imc >= 30:\n",
    "      return dict(classificateur = \"Obésité modérée\", risque_maladies = \"Élevé\") \n",
    "      \n",
    "\n",
    "\n"
   ]
  },
  {
   "cell_type": "code",
   "execution_count": 56,
   "metadata": {},
   "outputs": [],
   "source": [
    "dataset = get_data()\n",
    "\n",
    "for it in dataset:\n",
    "    mb = metabilisme_base(it)\n",
    "    imc = get_imc(it)\n",
    "    it.update({\"mtabolisme_base\": int(mb)})\n",
    "    it.update({\"imc\": int(imc)})\n",
    "    it.update(get_classification(int(imc)))\n",
    "    "
   ]
  },
  {
   "cell_type": "code",
   "execution_count": 57,
   "metadata": {},
   "outputs": [
    {
     "name": "stdout",
     "output_type": "stream",
     "text": [
      "nom        age    poids_kg    taille_m  genre      mtabolisme_base    imc  classificateur    risque_maladies\n",
      "-------  -----  ----------  ----------  -------  -----------------  -----  ----------------  -----------------\n",
      "Olivier     35          78        1.85  h                     2045     22  Poids normal      Faible\n",
      "Claire      28          64        1.74  f                     1583     21  Poids normal      Faible\n",
      "Damien      65          89        1.71  h                     2127     30  Obésité modérée   Élevé\n"
     ]
    }
   ],
   "source": [
    "from tabulate import tabulate\n",
    "print(tabulate(dataset, headers=\"keys\"))"
   ]
  },
  {
   "cell_type": "code",
   "execution_count": null,
   "metadata": {},
   "outputs": [],
   "source": []
  }
 ],
 "metadata": {
  "kernelspec": {
   "display_name": "Python 3.10.4 ('venv')",
   "language": "python",
   "name": "python3"
  },
  "language_info": {
   "codemirror_mode": {
    "name": "ipython",
    "version": 3
   },
   "file_extension": ".py",
   "mimetype": "text/x-python",
   "name": "python",
   "nbconvert_exporter": "python",
   "pygments_lexer": "ipython3",
   "version": "3.10.4"
  },
  "orig_nbformat": 4,
  "vscode": {
   "interpreter": {
    "hash": "c5a22d407671fbf1f705df2998dd918fd78a3536c93c0ff29ee54bcd1fc98870"
   }
  }
 },
 "nbformat": 4,
 "nbformat_minor": 2
}
